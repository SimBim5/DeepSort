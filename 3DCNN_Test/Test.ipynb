{
 "cells": [
  {
   "cell_type": "code",
   "execution_count": 25,
   "id": "affecting-arbitration",
   "metadata": {},
   "outputs": [],
   "source": [
    "#import\n",
    "import cv2\n",
    "import torch\n",
    "import torch.nn as nn\n",
    "import numpy as np\n",
    "import torchvision\n",
    "import torchvision.datasets as datasets\n",
    "import torchvision.transforms as transforms\n",
    "import torchvision.transforms.functional as F\n",
    "from torchvision import models\n",
    "from PIL import Image\n",
    "import pandas as pd\n",
    "\n",
    "from AP3D import API3D\n",
    "\n",
    "import spatial_transforms as ST\n",
    "from ResNet import AP3DResNet50"
   ]
  },
  {
   "cell_type": "code",
   "execution_count": 26,
   "id": "streaming-belief",
   "metadata": {},
   "outputs": [],
   "source": [
    "## 4 Frames \n",
    "img1 = Image.open(\"000003.jpg\")\n",
    "img2 = Image.open(\"000004.jpg\")\n",
    "img3 = Image.open(\"000005.jpg\")\n",
    "img4 = Image.open(\"000006.jpg\")"
   ]
  },
  {
   "cell_type": "code",
   "execution_count": 27,
   "id": "manufactured-communist",
   "metadata": {},
   "outputs": [
    {
     "name": "stdout",
     "output_type": "stream",
     "text": [
      "        x    y   w    h\n",
      "1052  372  407  80  239\n",
      "1053  372  406  81  239\n",
      "1054  373  405  81  239\n",
      "1055  373  404  82  238\n"
     ]
    }
   ],
   "source": [
    "open(\"gt.txt\", \"r\")\n",
    "Koordinaten = open(\"gt.txt\", \"r\")\n",
    "\n",
    "data = pd.read_csv('gt.txt', header = None)\n",
    "data.columns = ['Frame', 'ID', 'x', 'y', 'w', 'h', 'Dies', 'Das', 'Visability']\n",
    "\n",
    "data.drop(data[data.ID != 2].index, inplace=True)\n",
    "data = data.loc[data['Frame'].isin(['3','4','5','6'])]\n",
    "data.drop(['Frame', 'ID', 'Dies', 'Das', 'Visability'], axis=1, inplace=True)\n",
    "print(data)\n",
    "\n",
    "x1 = data.at[1052, 'x']\n",
    "y1 = data.at[1052, 'y']\n",
    "w1 = data.at[1052, 'w']\n",
    "h1 = data.at[1052, 'h']\n",
    "\n",
    "x2 = data.at[1053, 'x']\n",
    "y2 = data.at[1053, 'y']\n",
    "w2 = data.at[1053, 'w']\n",
    "h2 = data.at[1053, 'h']\n",
    "\n",
    "x3 = data.at[1054, 'x']\n",
    "y3 = data.at[1054, 'y']\n",
    "w3 = data.at[1054, 'w']\n",
    "h3 = data.at[1054, 'h']\n",
    "\n",
    "x4 = data.at[1055, 'x']\n",
    "y4 = data.at[1055, 'y']\n",
    "w4 = data.at[1055, 'w']\n",
    "h4 = data.at[1055, 'h']"
   ]
  },
  {
   "cell_type": "code",
   "execution_count": 28,
   "id": "forced-northern",
   "metadata": {},
   "outputs": [],
   "source": [
    "## hardcode 4 bounding boxes\n",
    "bbox1 = img1.crop((x1, y1, x1+w1, y1+h1))\n",
    "bbox2 = img2.crop((x2, y2, x2+w2, y2+h2))\n",
    "bbox3 = img3.crop((x3, y3, x3+w3, y3+h3))\n",
    "bbox4 = img4.crop((x4, y4, x4+w4, y4+h4))\n",
    "\n",
    "bbox1.save('bbox1.png')\n",
    "bbox2.save('bbox2.png')\n",
    "bbox3.save('bbox3.png')\n",
    "bbox4.save('bbox4.png')"
   ]
  },
  {
   "cell_type": "code",
   "execution_count": 32,
   "id": "quick-thursday",
   "metadata": {},
   "outputs": [
    {
     "ename": "TypeError",
     "evalue": "pic should be PIL Image or ndarray. Got <class 'torch.Tensor'>",
     "output_type": "error",
     "traceback": [
      "\u001b[0;31m---------------------------------------------------------------------------\u001b[0m",
      "\u001b[0;31mTypeError\u001b[0m                                 Traceback (most recent call last)",
      "\u001b[0;32m<ipython-input-32-3919453dffd4>\u001b[0m in \u001b[0;36m<module>\u001b[0;34m\u001b[0m\n\u001b[1;32m     18\u001b[0m ])\n\u001b[1;32m     19\u001b[0m \u001b[0;34m\u001b[0m\u001b[0m\n\u001b[0;32m---> 20\u001b[0;31m \u001b[0mbbox1\u001b[0m \u001b[0;34m=\u001b[0m \u001b[0mtransform\u001b[0m \u001b[0;34m(\u001b[0m\u001b[0mbbox1\u001b[0m\u001b[0;34m)\u001b[0m\u001b[0;34m\u001b[0m\u001b[0;34m\u001b[0m\u001b[0m\n\u001b[0m\u001b[1;32m     21\u001b[0m \u001b[0mbbox2\u001b[0m \u001b[0;34m=\u001b[0m \u001b[0mtransform\u001b[0m \u001b[0;34m(\u001b[0m\u001b[0mbbox2\u001b[0m\u001b[0;34m)\u001b[0m\u001b[0;34m\u001b[0m\u001b[0;34m\u001b[0m\u001b[0m\n\u001b[1;32m     22\u001b[0m \u001b[0mbbox3\u001b[0m \u001b[0;34m=\u001b[0m \u001b[0mtransform\u001b[0m \u001b[0;34m(\u001b[0m\u001b[0mbbox3\u001b[0m\u001b[0;34m)\u001b[0m\u001b[0;34m\u001b[0m\u001b[0;34m\u001b[0m\u001b[0m\n",
      "\u001b[0;32m~/thesis/code/deep_sort/venv/lib/python3.7/site-packages/torchvision/transforms/transforms.py\u001b[0m in \u001b[0;36m__call__\u001b[0;34m(self, img)\u001b[0m\n\u001b[1;32m     65\u001b[0m     \u001b[0;32mdef\u001b[0m \u001b[0m__call__\u001b[0m\u001b[0;34m(\u001b[0m\u001b[0mself\u001b[0m\u001b[0;34m,\u001b[0m \u001b[0mimg\u001b[0m\u001b[0;34m)\u001b[0m\u001b[0;34m:\u001b[0m\u001b[0;34m\u001b[0m\u001b[0;34m\u001b[0m\u001b[0m\n\u001b[1;32m     66\u001b[0m         \u001b[0;32mfor\u001b[0m \u001b[0mt\u001b[0m \u001b[0;32min\u001b[0m \u001b[0mself\u001b[0m\u001b[0;34m.\u001b[0m\u001b[0mtransforms\u001b[0m\u001b[0;34m:\u001b[0m\u001b[0;34m\u001b[0m\u001b[0;34m\u001b[0m\u001b[0m\n\u001b[0;32m---> 67\u001b[0;31m             \u001b[0mimg\u001b[0m \u001b[0;34m=\u001b[0m \u001b[0mt\u001b[0m\u001b[0;34m(\u001b[0m\u001b[0mimg\u001b[0m\u001b[0;34m)\u001b[0m\u001b[0;34m\u001b[0m\u001b[0;34m\u001b[0m\u001b[0m\n\u001b[0m\u001b[1;32m     68\u001b[0m         \u001b[0;32mreturn\u001b[0m \u001b[0mimg\u001b[0m\u001b[0;34m\u001b[0m\u001b[0;34m\u001b[0m\u001b[0m\n\u001b[1;32m     69\u001b[0m \u001b[0;34m\u001b[0m\u001b[0m\n",
      "\u001b[0;32m~/thesis/code/deep_sort/venv/lib/python3.7/site-packages/torchvision/transforms/transforms.py\u001b[0m in \u001b[0;36m__call__\u001b[0;34m(self, pic)\u001b[0m\n\u001b[1;32m    102\u001b[0m             \u001b[0mTensor\u001b[0m\u001b[0;34m:\u001b[0m \u001b[0mConverted\u001b[0m \u001b[0mimage\u001b[0m\u001b[0;34m.\u001b[0m\u001b[0;34m\u001b[0m\u001b[0;34m\u001b[0m\u001b[0m\n\u001b[1;32m    103\u001b[0m         \"\"\"\n\u001b[0;32m--> 104\u001b[0;31m         \u001b[0;32mreturn\u001b[0m \u001b[0mF\u001b[0m\u001b[0;34m.\u001b[0m\u001b[0mto_tensor\u001b[0m\u001b[0;34m(\u001b[0m\u001b[0mpic\u001b[0m\u001b[0;34m)\u001b[0m\u001b[0;34m\u001b[0m\u001b[0;34m\u001b[0m\u001b[0m\n\u001b[0m\u001b[1;32m    105\u001b[0m \u001b[0;34m\u001b[0m\u001b[0m\n\u001b[1;32m    106\u001b[0m     \u001b[0;32mdef\u001b[0m \u001b[0m__repr__\u001b[0m\u001b[0;34m(\u001b[0m\u001b[0mself\u001b[0m\u001b[0;34m)\u001b[0m\u001b[0;34m:\u001b[0m\u001b[0;34m\u001b[0m\u001b[0;34m\u001b[0m\u001b[0m\n",
      "\u001b[0;32m~/thesis/code/deep_sort/venv/lib/python3.7/site-packages/torchvision/transforms/functional.py\u001b[0m in \u001b[0;36mto_tensor\u001b[0;34m(pic)\u001b[0m\n\u001b[1;32m     62\u001b[0m     \"\"\"\n\u001b[1;32m     63\u001b[0m     \u001b[0;32mif\u001b[0m \u001b[0;32mnot\u001b[0m\u001b[0;34m(\u001b[0m\u001b[0mF_pil\u001b[0m\u001b[0;34m.\u001b[0m\u001b[0m_is_pil_image\u001b[0m\u001b[0;34m(\u001b[0m\u001b[0mpic\u001b[0m\u001b[0;34m)\u001b[0m \u001b[0;32mor\u001b[0m \u001b[0m_is_numpy\u001b[0m\u001b[0;34m(\u001b[0m\u001b[0mpic\u001b[0m\u001b[0;34m)\u001b[0m\u001b[0;34m)\u001b[0m\u001b[0;34m:\u001b[0m\u001b[0;34m\u001b[0m\u001b[0;34m\u001b[0m\u001b[0m\n\u001b[0;32m---> 64\u001b[0;31m         \u001b[0;32mraise\u001b[0m \u001b[0mTypeError\u001b[0m\u001b[0;34m(\u001b[0m\u001b[0;34m'pic should be PIL Image or ndarray. Got {}'\u001b[0m\u001b[0;34m.\u001b[0m\u001b[0mformat\u001b[0m\u001b[0;34m(\u001b[0m\u001b[0mtype\u001b[0m\u001b[0;34m(\u001b[0m\u001b[0mpic\u001b[0m\u001b[0;34m)\u001b[0m\u001b[0;34m)\u001b[0m\u001b[0;34m)\u001b[0m\u001b[0;34m\u001b[0m\u001b[0;34m\u001b[0m\u001b[0m\n\u001b[0m\u001b[1;32m     65\u001b[0m \u001b[0;34m\u001b[0m\u001b[0m\n\u001b[1;32m     66\u001b[0m     \u001b[0;32mif\u001b[0m \u001b[0m_is_numpy\u001b[0m\u001b[0;34m(\u001b[0m\u001b[0mpic\u001b[0m\u001b[0;34m)\u001b[0m \u001b[0;32mand\u001b[0m \u001b[0;32mnot\u001b[0m \u001b[0m_is_numpy_image\u001b[0m\u001b[0;34m(\u001b[0m\u001b[0mpic\u001b[0m\u001b[0;34m)\u001b[0m\u001b[0;34m:\u001b[0m\u001b[0;34m\u001b[0m\u001b[0;34m\u001b[0m\u001b[0m\n",
      "\u001b[0;31mTypeError\u001b[0m: pic should be PIL Image or ndarray. Got <class 'torch.Tensor'>"
     ]
    }
   ],
   "source": [
    "##brauche ich für das 3DCNN wieder die normalization und resize???\n",
    "##transform = transforms.Compose([\n",
    "##    transforms.Resize(256),\n",
    "##    transforms.ToTensor(),\n",
    "##    transforms.Normalize(mean=[0.485, 0.456, 0.406], std=[0.229, 0.224, 0.225])\n",
    "##])\n",
    "\n",
    "##transform = ST.Compose([\n",
    "##    ST.Scale((256, 128), interpolation=3),\n",
    "##    ST.ToTensor(),\n",
    "##    ST.Normalize([0.485, 0.456, 0.406], [0.229, 0.224, 0.225])\n",
    "##])\n",
    "\n",
    "transform = transforms.Compose([\n",
    "    transforms.Scale((256, 128), interpolation=3),\n",
    "    transforms.ToTensor(),\n",
    "    transforms.Normalize([0.485, 0.456, 0.406], [0.229, 0.224, 0.225])\n",
    "])\n",
    "\n",
    "bbox1 = transform (bbox1)\n",
    "bbox2 = transform (bbox2)\n",
    "bbox3 = transform (bbox3)\n",
    "bbox4 = transform (bbox4)"
   ]
  },
  {
   "cell_type": "code",
   "execution_count": 33,
   "id": "seasonal-publisher",
   "metadata": {},
   "outputs": [
    {
     "data": {
      "text/plain": [
       "torch.Size([3, 256, 128])"
      ]
     },
     "execution_count": 33,
     "metadata": {},
     "output_type": "execute_result"
    }
   ],
   "source": [
    "##print(bbox1.size())\n",
    "##print(bbox2.size())\n",
    "##print(bbox3.size())\n",
    "##print(bbox4.size())\n",
    "\n",
    "##bbox1_size = bbox1.unsqueeze(0)                        ##nimmt das 3DCNN 3 oder 4 dimensionale inputs\n",
    "##bbox2_size = bbox2.unsqueeze(0)\n",
    "##bbox3_size = bbox3.unsqueeze(0)\n",
    "##bbox4_size = bbox4.unsqueeze(0)\n",
    "\n",
    "## 4 bboxen zu einem Torch.Tensor machen\n",
    "#bboxtensor = []\n",
    "##bboxtensor.append(bbox1)\n",
    "##bboxtensor.append(bbox2)\n",
    "##bboxtensor.append(bbox3)\n",
    "##bboxtensor.append(bbox4)\n",
    "\n",
    "##bboxtensor = torch.Tensor(bboxtensor)                   ##only one element tensors can be converted to Python scalars\n",
    "\n",
    "\n",
    "#bboxtensor = torch.stack(bbox1_size + bbox2_size + bbox3_size + bbox4_size) \n",
    "                                                          ##The size of tensor a (80) must match the size of tensor b (81)\n",
    "\n",
    "    \n",
    "bboxtensor = torch.Tensor(bbox1 + bbox2 + bbox3 + bbox4)\n",
    "bboxtensor.size()"
   ]
  },
  {
   "cell_type": "code",
   "execution_count": 34,
   "id": "colored-respect",
   "metadata": {},
   "outputs": [
    {
     "ename": "NameError",
     "evalue": "name 'AP3D' is not defined",
     "output_type": "error",
     "traceback": [
      "\u001b[0;31m---------------------------------------------------------------------------\u001b[0m",
      "\u001b[0;31mNameError\u001b[0m                                 Traceback (most recent call last)",
      "\u001b[0;32m<ipython-input-34-bcf5306621b1>\u001b[0m in \u001b[0;36m<module>\u001b[0;34m\u001b[0m\n\u001b[1;32m      4\u001b[0m \u001b[0;34m\u001b[0m\u001b[0m\n\u001b[1;32m      5\u001b[0m \u001b[0;31m##    return ResNet503D(num_classes, AP3D.APP3DC, c3d_idx, nl_idx, **kwargs)\u001b[0m\u001b[0;34m\u001b[0m\u001b[0;34m\u001b[0m\u001b[0;34m\u001b[0m\u001b[0m\n\u001b[0;32m----> 6\u001b[0;31m \u001b[0mCNN3D\u001b[0m \u001b[0;34m=\u001b[0m \u001b[0mAP3DResNet50\u001b[0m\u001b[0;34m(\u001b[0m\u001b[0;36m1261\u001b[0m\u001b[0;34m)\u001b[0m\u001b[0;34m\u001b[0m\u001b[0;34m\u001b[0m\u001b[0m\n\u001b[0m\u001b[1;32m      7\u001b[0m \u001b[0;34m\u001b[0m\u001b[0m\n\u001b[1;32m      8\u001b[0m \u001b[0;31m## loading the model                                         ## ist conv2d (in_channels) mein input Vektor?\u001b[0m\u001b[0;34m\u001b[0m\u001b[0;34m\u001b[0m\u001b[0;34m\u001b[0m\u001b[0m\n",
      "\u001b[0;32m~/thesis/code/deep_sort/3DCNN_Test/ResNet.py\u001b[0m in \u001b[0;36mAP3DResNet50\u001b[0;34m(num_classes, **kwargs)\u001b[0m\n\u001b[1;32m    166\u001b[0m     \u001b[0mnl_idx\u001b[0m \u001b[0;34m=\u001b[0m \u001b[0;34m[\u001b[0m\u001b[0;34m[\u001b[0m\u001b[0;34m]\u001b[0m\u001b[0;34m,\u001b[0m\u001b[0;34m[\u001b[0m\u001b[0;34m]\u001b[0m\u001b[0;34m,\u001b[0m\u001b[0;34m[\u001b[0m\u001b[0;34m]\u001b[0m\u001b[0;34m,\u001b[0m\u001b[0;34m[\u001b[0m\u001b[0;34m]\u001b[0m\u001b[0;34m]\u001b[0m\u001b[0;34m\u001b[0m\u001b[0;34m\u001b[0m\u001b[0m\n\u001b[1;32m    167\u001b[0m \u001b[0;34m\u001b[0m\u001b[0m\n\u001b[0;32m--> 168\u001b[0;31m     \u001b[0;32mreturn\u001b[0m \u001b[0mResNet503D\u001b[0m\u001b[0;34m(\u001b[0m\u001b[0mnum_classes\u001b[0m\u001b[0;34m,\u001b[0m \u001b[0mAP3D\u001b[0m\u001b[0;34m.\u001b[0m\u001b[0mAPP3DC\u001b[0m\u001b[0;34m,\u001b[0m \u001b[0mc3d_idx\u001b[0m\u001b[0;34m,\u001b[0m \u001b[0mnl_idx\u001b[0m\u001b[0;34m,\u001b[0m \u001b[0;34m**\u001b[0m\u001b[0mkwargs\u001b[0m\u001b[0;34m)\u001b[0m\u001b[0;34m\u001b[0m\u001b[0;34m\u001b[0m\u001b[0m\n\u001b[0m\u001b[1;32m    169\u001b[0m \u001b[0;34m\u001b[0m\u001b[0m\n\u001b[1;32m    170\u001b[0m \u001b[0;34m\u001b[0m\u001b[0m\n",
      "\u001b[0;31mNameError\u001b[0m: name 'AP3D' is not defined"
     ]
    }
   ],
   "source": [
    "##def AP3DResNet50(num_classes, **kwargs):\n",
    "##    c3d_idx = [[],[0, 2],[0, 2, 4],[]]\n",
    "##    nl_idx = [[],[],[],[]]\n",
    "\n",
    "##    return ResNet503D(num_classes, AP3D.APP3DC, c3d_idx, nl_idx, **kwargs)\n",
    "CNN3D = AP3DResNet50(1261)\n",
    "\n",
    "## loading the model                                         ## ist conv2d (in_channels) mein input Vektor?\n",
    "##(CNN3D = API3D(conv2d, time_dim=3, time_stride=1, temperature=4, contrastive_att=True))\n",
    "## loading in weights\n",
    "CNN3D.load_state_dict(torch.load('/home/ga27qef/thesis/resnet3d_mars.pth.tar'))"
   ]
  },
  {
   "cell_type": "code",
   "execution_count": 35,
   "id": "sunset-delaware",
   "metadata": {},
   "outputs": [
    {
     "ename": "NameError",
     "evalue": "name 'CNN3D' is not defined",
     "output_type": "error",
     "traceback": [
      "\u001b[0;31m---------------------------------------------------------------------------\u001b[0m",
      "\u001b[0;31mNameError\u001b[0m                                 Traceback (most recent call last)",
      "\u001b[0;32m<ipython-input-35-e2d9611aa294>\u001b[0m in \u001b[0;36m<module>\u001b[0;34m\u001b[0m\n\u001b[0;32m----> 1\u001b[0;31m \u001b[0mfeatures\u001b[0m \u001b[0;34m=\u001b[0m \u001b[0mCNN3D\u001b[0m\u001b[0;34m(\u001b[0m\u001b[0mbboxtensor\u001b[0m\u001b[0;34m)\u001b[0m\u001b[0;34m\u001b[0m\u001b[0;34m\u001b[0m\u001b[0m\n\u001b[0m",
      "\u001b[0;31mNameError\u001b[0m: name 'CNN3D' is not defined"
     ]
    }
   ],
   "source": [
    "features = CNN3D(bboxtensor)"
   ]
  }
 ],
 "metadata": {
  "kernelspec": {
   "display_name": "Python 3",
   "language": "python",
   "name": "python3"
  },
  "language_info": {
   "codemirror_mode": {
    "name": "ipython",
    "version": 3
   },
   "file_extension": ".py",
   "mimetype": "text/x-python",
   "name": "python",
   "nbconvert_exporter": "python",
   "pygments_lexer": "ipython3",
   "version": "3.7.5"
  }
 },
 "nbformat": 4,
 "nbformat_minor": 5
}
