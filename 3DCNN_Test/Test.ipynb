{
 "cells": [
  {
   "cell_type": "code",
   "execution_count": 72,
   "id": "affecting-arbitration",
   "metadata": {},
   "outputs": [],
   "source": [
    "#import\n",
    "import cv2\n",
    "import torch\n",
    "import torch.nn as nn\n",
    "import numpy as np\n",
    "import torchvision\n",
    "import torchvision.datasets as datasets\n",
    "import torchvision.transforms as transforms\n",
    "import torchvision.transforms.functional as F\n",
    "from torchvision import models\n",
    "from PIL import Image\n",
    "import pandas as pd\n",
    "\n",
    "from AP3D import API3D   "
   ]
  },
  {
   "cell_type": "code",
   "execution_count": 73,
   "id": "streaming-belief",
   "metadata": {},
   "outputs": [],
   "source": [
    "## 4 Frames \n",
    "img1 = Image.open(\"000003.jpg\")\n",
    "img2 = Image.open(\"000004.jpg\")\n",
    "img3 = Image.open(\"000005.jpg\")\n",
    "img4 = Image.open(\"000006.jpg\")"
   ]
  },
  {
   "cell_type": "code",
   "execution_count": 74,
   "id": "manufactured-communist",
   "metadata": {},
   "outputs": [
    {
     "name": "stdout",
     "output_type": "stream",
     "text": [
      "        x    y   w    h\n",
      "1052  372  407  80  239\n",
      "1053  372  406  81  239\n",
      "1054  373  405  81  239\n",
      "1055  373  404  82  238\n"
     ]
    }
   ],
   "source": [
    "open(\"gt.txt\", \"r\")\n",
    "Koordinaten = open(\"gt.txt\", \"r\")\n",
    "\n",
    "data = pd.read_csv('gt.txt', header = None)\n",
    "data.columns = ['Frame', 'ID', 'x', 'y', 'w', 'h', 'Dies', 'Das', 'Visability']\n",
    "\n",
    "data.drop(data[data.ID != 2].index, inplace=True)\n",
    "data = data.loc[data['Frame'].isin(['3','4','5','6'])]\n",
    "data.drop(['Frame', 'ID', 'Dies', 'Das', 'Visability'], axis=1, inplace=True)\n",
    "print(data)\n",
    "\n",
    "x1 = data.at[1052, 'x']\n",
    "y1 = data.at[1052, 'y']\n",
    "w1 = data.at[1052, 'w']\n",
    "h1 = data.at[1052, 'h']\n",
    "\n",
    "x2 = data.at[1053, 'x']\n",
    "y2 = data.at[1053, 'y']\n",
    "w2 = data.at[1053, 'w']\n",
    "h2 = data.at[1053, 'h']\n",
    "\n",
    "x3 = data.at[1054, 'x']\n",
    "y3 = data.at[1054, 'y']\n",
    "w3 = data.at[1054, 'w']\n",
    "h3 = data.at[1054, 'h']\n",
    "\n",
    "x4 = data.at[1055, 'x']\n",
    "y4 = data.at[1055, 'y']\n",
    "w4 = data.at[1055, 'w']\n",
    "h4 = data.at[1055, 'h']"
   ]
  },
  {
   "cell_type": "code",
   "execution_count": 75,
   "id": "forced-northern",
   "metadata": {},
   "outputs": [],
   "source": [
    "## hardcode 4 bounding boxes\n",
    "bbox1 = img1.crop((x1, y1, x1+w1, y1+h1))\n",
    "bbox2 = img2.crop((x2, y2, x2+w2, y2+h2))\n",
    "bbox3 = img3.crop((x3, y3, x3+w3, y3+h3))\n",
    "bbox4 = img4.crop((x4, y4, x4+w4, y4+h4))\n",
    "\n",
    "bbox1.save('bbox1.png')\n",
    "bbox2.save('bbox2.png')\n",
    "bbox3.save('bbox3.png')\n",
    "bbox4.save('bbox4.png')"
   ]
  },
  {
   "cell_type": "code",
   "execution_count": 76,
   "id": "quick-thursday",
   "metadata": {},
   "outputs": [],
   "source": [
    "transform = transforms.Compose([\n",
    "    transforms.ToTensor(),\n",
    "])\n",
    "\n",
    "bbox1 = transform (bbox1)\n",
    "bbox2 = transform (bbox2)\n",
    "bbox3 = transform (bbox3)\n",
    "bbox4 = transform (bbox4)"
   ]
  },
  {
   "cell_type": "code",
   "execution_count": 93,
   "id": "seasonal-publisher",
   "metadata": {},
   "outputs": [
    {
     "name": "stdout",
     "output_type": "stream",
     "text": [
      "torch.Size([1, 3, 239, 80])\n",
      "torch.Size([1, 3, 239, 81])\n",
      "torch.Size([1, 3, 239, 81])\n",
      "torch.Size([1, 3, 238, 82])\n"
     ]
    }
   ],
   "source": [
    "##print(bbox1.size())\n",
    "##print(bbox2.size())\n",
    "##print(bbox3.size())\n",
    "##print(bbox4.size())\n",
    "\n",
    "bbox1_size = bbox1.unsqueeze(0)\n",
    "bbox2_size = bbox2.unsqueeze(0)\n",
    "bbox3_size = bbox3.unsqueeze(0)\n",
    "bbox4_size = bbox4.unsqueeze(0)\n",
    "\n",
    "## 4 bboxen zu einem Torch.Tensor machen\n",
    "#bboxtensor = []\n",
    "##bboxtensor.append(bbox1)\n",
    "##bboxtensor.append(bbox2)\n",
    "##bboxtensor.append(bbox3)\n",
    "##bboxtensor.append(bbox4)\n",
    "\n",
    "#bboxtensor = torch.stack(bbox1_size + bbox2_size + bbox3_size + bbox4_size) \n",
    "                                                          ##The size of tensor a (80) must match the size of tensor b (81)\n",
    "##bboxtensor_tensor = torch.stack(bboxtensor)             ##Tensor habe nicht gleiche Größe wegen unterschiedlich großen bboxen?\n",
    "##bboxtensor = torch.Tensor(bboxtensor)                   ##only one element tensors can be converted to Python scalars\n",
    "\n",
    "print(bbox1_size.size())\n",
    "print(bbox2_size.size())\n",
    "print(bbox3_size.size())\n",
    "print(bbox4_size.size())"
   ]
  },
  {
   "cell_type": "code",
   "execution_count": 97,
   "id": "colored-respect",
   "metadata": {},
   "outputs": [
    {
     "ename": "NameError",
     "evalue": "name 'conv2d' is not defined",
     "output_type": "error",
     "traceback": [
      "\u001b[0;31m---------------------------------------------------------------------------\u001b[0m",
      "\u001b[0;31mNameError\u001b[0m                                 Traceback (most recent call last)",
      "\u001b[0;32m<ipython-input-97-ddff9a8bf357>\u001b[0m in \u001b[0;36m<module>\u001b[0;34m\u001b[0m\n\u001b[1;32m      1\u001b[0m \u001b[0;31m## loading the model                                         ## was ist conv2d (in_channels)\u001b[0m\u001b[0;34m\u001b[0m\u001b[0;34m\u001b[0m\u001b[0;34m\u001b[0m\u001b[0m\n\u001b[0;32m----> 2\u001b[0;31m \u001b[0mCNN3D\u001b[0m \u001b[0;34m=\u001b[0m \u001b[0mAPI3D\u001b[0m\u001b[0;34m(\u001b[0m\u001b[0mconv2d\u001b[0m\u001b[0;34m,\u001b[0m \u001b[0mtime_dim\u001b[0m\u001b[0;34m=\u001b[0m\u001b[0;36m3\u001b[0m\u001b[0;34m,\u001b[0m \u001b[0mtime_stride\u001b[0m\u001b[0;34m=\u001b[0m\u001b[0;36m1\u001b[0m\u001b[0;34m,\u001b[0m \u001b[0mtemperature\u001b[0m\u001b[0;34m=\u001b[0m\u001b[0;36m4\u001b[0m\u001b[0;34m,\u001b[0m \u001b[0mcontrastive_att\u001b[0m\u001b[0;34m=\u001b[0m\u001b[0;32mTrue\u001b[0m\u001b[0;34m)\u001b[0m\u001b[0;34m\u001b[0m\u001b[0;34m\u001b[0m\u001b[0m\n\u001b[0m\u001b[1;32m      3\u001b[0m \u001b[0;31m## loading in weights\u001b[0m\u001b[0;34m\u001b[0m\u001b[0;34m\u001b[0m\u001b[0;34m\u001b[0m\u001b[0m\n\u001b[1;32m      4\u001b[0m \u001b[0mCNN3D\u001b[0m\u001b[0;34m.\u001b[0m\u001b[0mload_state_dict\u001b[0m\u001b[0;34m(\u001b[0m\u001b[0mtorch\u001b[0m\u001b[0;34m.\u001b[0m\u001b[0mload\u001b[0m\u001b[0;34m(\u001b[0m\u001b[0;34m'/home/ga27qef/thesis/resnet3d_mars.pth.tar'\u001b[0m\u001b[0;34m)\u001b[0m\u001b[0;34m)\u001b[0m\u001b[0;34m\u001b[0m\u001b[0;34m\u001b[0m\u001b[0m\n",
      "\u001b[0;31mNameError\u001b[0m: name 'conv2d' is not defined"
     ]
    }
   ],
   "source": [
    "## loading the model                                         ## was ist conv2d (in_channels)\n",
    "CNN3D = API3D(conv2d, time_dim=3, time_stride=1, temperature=4, contrastive_att=True)\n",
    "## loading in weights\n",
    "CNN3D.load_state_dict(torch.load('/home/ga27qef/thesis/resnet3d_mars.pth.tar'))"
   ]
  },
  {
   "cell_type": "code",
   "execution_count": 237,
   "id": "sunset-delaware",
   "metadata": {},
   "outputs": [
    {
     "ename": "NameError",
     "evalue": "name 'CNN3D' is not defined",
     "output_type": "error",
     "traceback": [
      "\u001b[0;31m---------------------------------------------------------------------------\u001b[0m",
      "\u001b[0;31mNameError\u001b[0m                                 Traceback (most recent call last)",
      "\u001b[0;32m<ipython-input-237-e2d9611aa294>\u001b[0m in \u001b[0;36m<module>\u001b[0;34m\u001b[0m\n\u001b[0;32m----> 1\u001b[0;31m \u001b[0mfeatures\u001b[0m \u001b[0;34m=\u001b[0m \u001b[0mCNN3D\u001b[0m\u001b[0;34m(\u001b[0m\u001b[0mbboxtensor\u001b[0m\u001b[0;34m)\u001b[0m\u001b[0;34m\u001b[0m\u001b[0;34m\u001b[0m\u001b[0m\n\u001b[0m",
      "\u001b[0;31mNameError\u001b[0m: name 'CNN3D' is not defined"
     ]
    }
   ],
   "source": [
    "features = CNN3D(bboxtensor)"
   ]
  }
 ],
 "metadata": {
  "kernelspec": {
   "display_name": "Python 3",
   "language": "python",
   "name": "python3"
  },
  "language_info": {
   "codemirror_mode": {
    "name": "ipython",
    "version": 3
   },
   "file_extension": ".py",
   "mimetype": "text/x-python",
   "name": "python",
   "nbconvert_exporter": "python",
   "pygments_lexer": "ipython3",
   "version": "3.7.5"
  }
 },
 "nbformat": 4,
 "nbformat_minor": 5
}
