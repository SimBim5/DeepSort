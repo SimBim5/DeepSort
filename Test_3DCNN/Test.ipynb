{
 "cells": [
  {
   "cell_type": "code",
   "execution_count": 1,
   "id": "affecting-arbitration",
   "metadata": {},
   "outputs": [],
   "source": [
    "#import\n",
    "import cv2\n",
    "import torch\n",
    "import torch.nn as nn\n",
    "import numpy as np\n",
    "import torchvision\n",
    "import torchvision.datasets as datasets\n",
    "import torchvision.transforms as transforms\n",
    "import torchvision.transforms.functional as F\n",
    "from torchvision import models\n",
    "from PIL import Image\n",
    "import pandas as pd\n",
    "\n",
    "import spatial_transforms as ST\n",
    "from models.ResNet import AP3DResNet50"
   ]
  },
  {
   "cell_type": "code",
   "execution_count": 2,
   "id": "streaming-belief",
   "metadata": {},
   "outputs": [],
   "source": [
    "## 4 Frames \n",
    "img1 = Image.open(\"000003.jpg\")\n",
    "img2 = Image.open(\"000004.jpg\")\n",
    "img3 = Image.open(\"000005.jpg\")\n",
    "img4 = Image.open(\"000006.jpg\")"
   ]
  },
  {
   "cell_type": "code",
   "execution_count": 3,
   "id": "manufactured-communist",
   "metadata": {},
   "outputs": [
    {
     "name": "stdout",
     "output_type": "stream",
     "text": [
      "        x    y   w    h\n",
      "1052  372  407  80  239\n",
      "1053  372  406  81  239\n",
      "1054  373  405  81  239\n",
      "1055  373  404  82  238\n"
     ]
    }
   ],
   "source": [
    "open(\"gt.txt\", \"r\")\n",
    "Koordinaten = open(\"gt.txt\", \"r\")\n",
    "\n",
    "data = pd.read_csv('gt.txt', header = None)\n",
    "data.columns = ['Frame', 'ID', 'x', 'y', 'w', 'h', 'Dies', 'Das', 'Visability']\n",
    "\n",
    "data.drop(data[data.ID != 2].index, inplace=True)\n",
    "data = data.loc[data['Frame'].isin(['3','4','5','6'])]\n",
    "data.drop(['Frame', 'ID', 'Dies', 'Das', 'Visability'], axis=1, inplace=True)\n",
    "print(data)\n",
    "\n",
    "x1 = data.at[1052, 'x']\n",
    "y1 = data.at[1052, 'y']\n",
    "w1 = data.at[1052, 'w']\n",
    "h1 = data.at[1052, 'h']\n",
    "\n",
    "x2 = data.at[1053, 'x']\n",
    "y2 = data.at[1053, 'y']\n",
    "w2 = data.at[1053, 'w']\n",
    "h2 = data.at[1053, 'h']\n",
    "\n",
    "x3 = data.at[1054, 'x']\n",
    "y3 = data.at[1054, 'y']\n",
    "w3 = data.at[1054, 'w']\n",
    "h3 = data.at[1054, 'h']\n",
    "\n",
    "x4 = data.at[1055, 'x']\n",
    "y4 = data.at[1055, 'y']\n",
    "w4 = data.at[1055, 'w']\n",
    "h4 = data.at[1055, 'h']"
   ]
  },
  {
   "cell_type": "code",
   "execution_count": 4,
   "id": "forced-northern",
   "metadata": {},
   "outputs": [],
   "source": [
    "## hardcode 4 bounding boxes\n",
    "bbox1 = img1.crop((x1, y1, x1+w1, y1+h1))\n",
    "bbox2 = img2.crop((x2, y2, x2+w2, y2+h2))\n",
    "bbox3 = img3.crop((x3, y3, x3+w3, y3+h3))\n",
    "bbox4 = img4.crop((x4, y4, x4+w4, y4+h4))\n",
    "\n",
    "bbox1.save('bbox1.png')\n",
    "bbox2.save('bbox2.png')\n",
    "bbox3.save('bbox3.png')\n",
    "bbox4.save('bbox4.png')"
   ]
  },
  {
   "cell_type": "code",
   "execution_count": 5,
   "id": "quick-thursday",
   "metadata": {},
   "outputs": [
    {
     "name": "stdout",
     "output_type": "stream",
     "text": [
      "torch.Size([3, 256, 128])\n",
      "torch.Size([3, 256, 128])\n",
      "torch.Size([3, 256, 128])\n",
      "torch.Size([3, 256, 128])\n"
     ]
    }
   ],
   "source": [
    "transform = transforms.Compose([\n",
    "    transforms.ToTensor(),\n",
    "    transforms.Resize((256, 128), interpolation=3),\n",
    "    transforms.Normalize([0.485, 0.456, 0.406], [0.229, 0.224, 0.225])\n",
    "])\n",
    "\n",
    "bbox1_trans = transform (bbox1)\n",
    "bbox2_trans = transform (bbox2)\n",
    "bbox3_trans = transform (bbox3)\n",
    "bbox4_trans = transform (bbox4)\n",
    "\n",
    "print(bbox1_trans.size())\n",
    "print(bbox2_trans.size())\n",
    "print(bbox3_trans.size())\n",
    "print(bbox4_trans.size())"
   ]
  },
  {
   "cell_type": "code",
   "execution_count": 6,
   "id": "seasonal-publisher",
   "metadata": {},
   "outputs": [
    {
     "data": {
      "text/plain": [
       "torch.Size([1, 3, 3, 256, 128])"
      ]
     },
     "execution_count": 6,
     "metadata": {},
     "output_type": "execute_result"
    }
   ],
   "source": [
    "###bboxtensor = torch.stack([bbox1_trans, bbox2_trans, bbox3_trans, bbox4_trans])\n",
    "bboxtensor = torch.stack([bbox1_trans, bbox2_trans, bbox3_trans])\n",
    "bboxtensor.size()\n",
    "bboxtensor_5dim = bboxtensor.unsqueeze(0)\n",
    "\n",
    "bboxtensor_5dim.size()"
   ]
  },
  {
   "cell_type": "code",
   "execution_count": 7,
   "id": "colored-respect",
   "metadata": {},
   "outputs": [
    {
     "data": {
      "text/plain": [
       "<All keys matched successfully>"
      ]
     },
     "execution_count": 7,
     "metadata": {},
     "output_type": "execute_result"
    }
   ],
   "source": [
    "CNN3D = AP3DResNet50(625)\n",
    "CNN3D.load_state_dict(torch.load('/home/ga27qef/thesis/resnet3d_mars.pth.tar')['state_dict'])"
   ]
  },
  {
   "cell_type": "code",
   "execution_count": 11,
   "id": "sunset-delaware",
   "metadata": {},
   "outputs": [
    {
     "data": {
      "text/plain": [
       "tensor([0.3681, 0.3768, 0.3765,  ..., 0.2465, 0.1057, 0.0927],\n",
       "       grad_fn=<ViewBackward>)"
      ]
     },
     "execution_count": 11,
     "metadata": {},
     "output_type": "execute_result"
    }
   ],
   "source": [
    "CNN3D.eval()\n",
    "features = CNN3D(bboxtensor_5dim)\n",
    "\n",
    "features.view(6144)"
   ]
  }
 ],
 "metadata": {
  "kernelspec": {
   "display_name": "Python 3",
   "language": "python",
   "name": "python3"
  },
  "language_info": {
   "codemirror_mode": {
    "name": "ipython",
    "version": 3
   },
   "file_extension": ".py",
   "mimetype": "text/x-python",
   "name": "python",
   "nbconvert_exporter": "python",
   "pygments_lexer": "ipython3",
   "version": "3.7.5"
  }
 },
 "nbformat": 4,
 "nbformat_minor": 5
}
